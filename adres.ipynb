{
  "nbformat": 4,
  "nbformat_minor": 0,
  "metadata": {
    "colab": {
      "name": "adres.ipynb",
      "provenance": [],
      "collapsed_sections": [],
      "mount_file_id": "1uPTLOLPoTwxVJU-muvWzAI_XbZjtxNMj",
      "authorship_tag": "ABX9TyPPfDRW1NEIDODoOt+8Y529",
      "include_colab_link": true
    },
    "kernelspec": {
      "name": "python3",
      "display_name": "Python 3"
    },
    "language_info": {
      "name": "python"
    }
  },
  "cells": [
    {
      "cell_type": "markdown",
      "metadata": {
        "id": "view-in-github",
        "colab_type": "text"
      },
      "source": [
        "<a href=\"https://colab.research.google.com/github/betulmanavoglu/hu-bby162-2021/blob/main/adres.ipynb\" target=\"_parent\"><img src=\"https://colab.research.google.com/assets/colab-badge.svg\" alt=\"Open In Colab\"/></a>"
      ]
    },
    {
      "cell_type": "code",
      "metadata": {
        "id": "dQEoL2TyShCh"
      },
      "source": [
        "dosya= \"/content/drive/MyDrive/Colab Notebooks/HU-BBY162-2021/adres.txt\"\n",
        "\n",
        "giris = input(\"Bilgileri giriniz:\")\n",
        "f = open(dosya, 'a\"') \n",
        "\n",
        "f.write(giris + \"\\n\")\n",
        "f.close()\n",
        "\n",
        "f = open(dosya, \"r\") \n",
        "\n",
        "for line in f.readlines():\n",
        "    print(line)\n",
        "\n",
        "f.close()\n"
      ],
      "execution_count": null,
      "outputs": []
    }
  ]
}