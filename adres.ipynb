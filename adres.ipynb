{
  "nbformat": 4,
  "nbformat_minor": 0,
  "metadata": {
    "colab": {
      "name": "adres.ipynb",
      "provenance": [],
      "collapsed_sections": [],
      "mount_file_id": "1cx2_Zprtg5y-m6i0Yij-5dXaWP5Jrv97",
      "authorship_tag": "ABX9TyPE4UmfyRV9o9Dsu6p05Vgu",
      "include_colab_link": true
    },
    "kernelspec": {
      "name": "python3",
      "display_name": "Python 3"
    },
    "language_info": {
      "name": "python"
    }
  },
  "cells": [
    {
      "cell_type": "markdown",
      "metadata": {
        "id": "view-in-github",
        "colab_type": "text"
      },
      "source": [
        "<a href=\"https://colab.research.google.com/github/betulmanavoglu/hu-bby162-2021/blob/main/adres.ipynb\" target=\"_parent\"><img src=\"https://colab.research.google.com/assets/colab-badge.svg\" alt=\"Open In Colab\"/></a>"
      ]
    },
    {
      "cell_type": "code",
      "metadata": {
        "id": "V6O7WIFuthgL",
        "colab": {
          "base_uri": "https://localhost:8080/"
        },
        "outputId": "960dc7d1-7506-4886-b7ad-7d2ccba69b16"
      },
      "source": [
        "dosya= \"/content/drive/MyDrive/Colab Notebooks/HU-BBY162-2021/adres.txt\"\n",
        "\n",
        "giris = input(\"Bilgileri giriniz:\")\n",
        "f = open(dosya, 'a') \n",
        "\n",
        "f.write(giris + \"\\n\")\n",
        "f.close()\n",
        "\n",
        "\n",
        "giris = input(\"Bilgileri giriniz:\")\n",
        "f = open(dosya, \"a\")\n",
        "f.write(giris + \"\\n\") \n",
        "f.close\n",
        "f = open(dosya, \"r\")\n",
        "for line in f.readlines():\n",
        "    print(line)\n",
        "\n",
        "f.close()\n"
      ],
      "execution_count": 11,
      "outputs": [
        {
          "output_type": "stream",
          "text": [
            "Bilgileri giriniz:Betül Manavoğlu\n",
            "Bilgileri giriniz:manavoglubetul@gmail.com\n",
            "Betül Manavoğlu\n",
            "\n",
            "manavoglubetul@gmail.com\n",
            "\n"
          ],
          "name": "stdout"
        }
      ]
    }
  ]
}