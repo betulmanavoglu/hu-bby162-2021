{
  "nbformat": 4,
  "nbformat_minor": 0,
  "metadata": {
    "colab": {
      "name": "adres.ipynb",
      "provenance": [],
      "collapsed_sections": [],
      "mount_file_id": "1uPTLOLPoTwxVJU-muvWzAI_XbZjtxNMj",
      "authorship_tag": "ABX9TyN3VBA4g9mkEpCI6gf2mfaT",
      "include_colab_link": true
    },
    "kernelspec": {
      "name": "python3",
      "display_name": "Python 3"
    },
    "language_info": {
      "name": "python"
    }
  },
  "cells": [
    {
      "cell_type": "markdown",
      "metadata": {
        "id": "view-in-github",
        "colab_type": "text"
      },
      "source": [
        "<a href=\"https://colab.research.google.com/github/betulmanavoglu/hu-bby162-2021/blob/main/adres.ipynb\" target=\"_parent\"><img src=\"https://colab.research.google.com/assets/colab-badge.svg\" alt=\"Open In Colab\"/></a>"
      ]
    },
    {
      "cell_type": "code",
      "metadata": {
        "id": "dQEoL2TyShCh",
        "colab": {
          "base_uri": "https://localhost:8080/"
        },
        "outputId": "d4a2cf0f-14bf-48df-8fe1-ee57dd795809"
      },
      "source": [
        "dosya= \"/content/drive/MyDrive/Colab Notebooks/HU-BBY162-2021/adres.txt\"\n",
        "\n",
        "f = open(dosya, 'w') \n",
        "f.write(\"Betül\" + \" Manavoğlu\\n\")\n",
        "f.write(\"manavoglubetul@gmail.com\\n\")\n",
        "f.close()\n",
        "\n",
        "f = open(dosya, \"r\") \n",
        "\n",
        "for line in f.readlines():\n",
        "    print(line)\n",
        "\n",
        "f.close()"
      ],
      "execution_count": 20,
      "outputs": [
        {
          "output_type": "stream",
          "text": [
            "Betül Manavoğlu\n",
            "\n",
            "manavoglubetul@gmail.com\n",
            "\n"
          ],
          "name": "stdout"
        }
      ]
    }
  ]
}