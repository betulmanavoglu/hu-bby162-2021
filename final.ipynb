{
  "nbformat": 4,
  "nbformat_minor": 0,
  "metadata": {
    "colab": {
      "name": "final.ipynb",
      "provenance": [],
      "collapsed_sections": [],
      "mount_file_id": "1Hvad43j6SOiwGtp4mknNb0JdYE5cdFNa",
      "authorship_tag": "ABX9TyO0X+PA/+Xw9ZE1UiyUitnw",
      "include_colab_link": true
    },
    "kernelspec": {
      "name": "python3",
      "display_name": "Python 3"
    },
    "language_info": {
      "name": "python"
    }
  },
  "cells": [
    {
      "cell_type": "markdown",
      "metadata": {
        "id": "view-in-github",
        "colab_type": "text"
      },
      "source": [
        "<a href=\"https://colab.research.google.com/github/betulmanavoglu/hu-bby162-2021/blob/main/final.ipynb\" target=\"_parent\"><img src=\"https://colab.research.google.com/assets/colab-badge.svg\" alt=\"Open In Colab\"/></a>"
      ]
    },
    {
      "cell_type": "code",
      "metadata": {
        "id": "OBF9hyq4jjRh",
        "colab": {
          "base_uri": "https://localhost:8080/"
        },
        "outputId": "50fdb67c-48b3-40c0-e870-b3ea6719ab41"
      },
      "source": [
        "#Kütüphane kataloğu otomasyon uygulaması\n",
        "\n",
        "dosya=\"/content/drive/MyDrive/Colab Notebooks/HU-BBY162-2021/final.txt\"\n",
        "print(\"•••••→ KATALOĞA HOŞ GELDİNİZ ←•••••\")\n",
        "\n",
        "def listele():\n",
        "  f = open(dosya, \"r\")\n",
        "  for line in f.readlines():\n",
        "    print(line)\n",
        "  f.close()\n",
        "  print(\"Kayıt işlemi tamamlandı.\")\n",
        "\n",
        "def ekle():\n",
        "  eserAdi=input(\"Eser adı giriniz: \")\n",
        "  yazarAdi= input(\"Yazarı giriniz: \")\n",
        "  yayınEvi = input(\"Yayınevi giriniz: \")\n",
        "  basımTarih = input(\"Yayın yılını giriniz: \")\n",
        "  isbn = input(\"ISBN giriniz: \")\n",
        "\n",
        "  f = open(dosya,\"a\")\n",
        "  f.write (eserAdi +\", \" + yazarAdi + \", \" + yayınEvi + \", \" + basımTarih + \", \"+ isbn + \"\\n\" )\n",
        "  f.close()\n",
        "  menu()\n",
        "\n",
        "def kitapCikar():\n",
        "  f = open(dosya)\n",
        "  icerik = f.readlines()\n",
        " \n",
        "  satir= int(input(\"Çıkarılmasını istediğiniz satırı giriniz: \"))\n",
        "  del icerik[satir-1]\n",
        "  f.close()\n",
        "  f = open(dosya,\"w\")\n",
        "  f.writelines(icerik)\n",
        "  f.close()\n",
        "  menu()\n",
        "\n",
        "def menu():\n",
        "  print(\"1) Katalogu yazdır \")\n",
        "  print(\"2) Kayıt ekle\")\n",
        "  print(\"3) Kayıt sil\")\n",
        "  secim=input(\"Hangi işlemi yapmak istiyorsunuz 1/2/3: \")\n",
        "  if secim == \"1\":\n",
        "    listele()\n",
        "  elif secim == \"2\":\n",
        "    ekle()\n",
        "  elif secim == \"3\":\n",
        "    kitapCikar()\n",
        "  else:\n",
        "    print(\"Kayıt durduruldu!\")\n",
        "menu()\n"
      ],
      "execution_count": null,
      "outputs": [
        {
          "output_type": "stream",
          "text": [
            "•••••→ KATALOĞA HOŞ GELDİNİZ ←•••••\n",
            "1) Katalogu yazdır \n",
            "2) Kayıt ekle\n",
            "3) Kayıt sil\n",
            "Hangi işlemi yapmak istiyorsunuz 1/2/3: 1\n",
            "Ölü Canlar, Nikolay Gogol, Karaca Yayınları, 1990, 9786054845125\n",
            "\n",
            "Füreya, Ayşe Kulin, Everest Yayınları, 2009, 9789752897496\n",
            "\n",
            "Hastalık Hastası, Moliere, Türkiye İş Bankası, 2015, 9786053326854\n",
            "\n",
            "Ana, Maksim Gorki, Can Yayınları, 2017, 9789750736988\n",
            "\n",
            "Simyacı, Paulo Coelho, Can Yayınları, 2003, 9789750736775\n",
            "\n",
            "Kayıt işlemi tamamlandı.\n"
          ],
          "name": "stdout"
        }
      ]
    }
  ]
}