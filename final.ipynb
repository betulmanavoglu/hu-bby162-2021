{
  "nbformat": 4,
  "nbformat_minor": 0,
  "metadata": {
    "colab": {
      "name": "final.ipynb",
      "provenance": [],
      "collapsed_sections": [],
      "mount_file_id": "1Hvad43j6SOiwGtp4mknNb0JdYE5cdFNa",
      "authorship_tag": "ABX9TyNubvxMI8loQihIyrgkyVbB",
      "include_colab_link": true
    },
    "kernelspec": {
      "name": "python3",
      "display_name": "Python 3"
    },
    "language_info": {
      "name": "python"
    }
  },
  "cells": [
    {
      "cell_type": "markdown",
      "metadata": {
        "id": "view-in-github",
        "colab_type": "text"
      },
      "source": [
        "<a href=\"https://colab.research.google.com/github/betulmanavoglu/hu-bby162-2021/blob/main/final.ipynb\" target=\"_parent\"><img src=\"https://colab.research.google.com/assets/colab-badge.svg\" alt=\"Open In Colab\"/></a>"
      ]
    },
    {
      "cell_type": "code",
      "metadata": {
        "id": "OBF9hyq4jjRh",
        "colab": {
          "base_uri": "https://localhost:8080/"
        },
        "outputId": "0948e09a-860d-4a65-83ef-39675fad7ac6"
      },
      "source": [
        "#Kütüphane kataloğu otomasyon uygulaması\n",
        "\n",
        "dosya=\"/content/drive/MyDrive/Colab Notebooks/HU-BBY162-2021/final.txt\"\n",
        "print(\"Kataloğa Hoşgeldiniz.\")\n",
        "\n",
        "def listele():\n",
        "  f = open(dosya, \"r\")\n",
        "  for line in f.readlines():\n",
        "    print(line)\n",
        "  f.close()\n",
        "\n",
        "def ekle():\n",
        "  eserAdi=input(\"Eser adı giriniz: \")\n",
        "  yazarAdi= input(\"Yazarı giriniz: \")\n",
        "  yayınEvi = input(\"Yayınevi giriniz: \")\n",
        "  basımTarih = input(\"Yayın yılını giriniz: \")\n",
        "  isbn = input(\"ISBN giriniz: \")\n",
        "\n",
        "  f = open(dosya,\"a\")\n",
        "  f.write (eserAdi +\", \" + yazarAdi + \", \" + yayınEvi + \", \" + basımTarih + \", \"+ isbn + \"\\n\" )\n",
        "  f.close()\n",
        "  menu()\n",
        "\n",
        "def menu():\n",
        "  print(\"1) Kayıt listele \")\n",
        "  print(\"2) Kayıt ekle\")\n",
        "  secim=input(\"Hangi işlemi yapmak istiyorsunuz 1/2: \")\n",
        "  if secim == \"1\":\n",
        "    listele()\n",
        "  elif secim == \"2\":\n",
        "    ekle()\n",
        "  else:\n",
        "    print(\"Kayıt durduruldu!\")\n",
        "menu()\n"
      ],
      "execution_count": 25,
      "outputs": [
        {
          "output_type": "stream",
          "text": [
            "Kataloğa Hoşgeldiniz.\n",
            "1) Kayıt listele \n",
            "2) Kayıt ekle\n",
            "Hangi işlemi yapmak istiyorsunuz 1/2: 2\n",
            "Eser adı giriniz: Ölü Canlar\n",
            "Yazarı giriniz: Nikolay Gogol\n",
            "Yayınevi giriniz: Karaca\n",
            "Yayın yılını giriniz: 1960\n",
            "ISBN giriniz: 9786054845125\n",
            "1) Kayıt listele \n",
            "2) Kayıt ekle\n",
            "Hangi işlemi yapmak istiyorsunuz 1/2: 2\n",
            "Eser adı giriniz: Füreya\n",
            "Yazarı giriniz: Ayşe Kulin\n",
            "Yayınevi giriniz: Everest\n",
            "Yayın yılını giriniz: 2000\n",
            "ISBN giriniz: 9789752897496\n",
            "1) Kayıt listele \n",
            "2) Kayıt ekle\n",
            "Hangi işlemi yapmak istiyorsunuz 1/2: 2\n",
            "Eser adı giriniz: Hastalık Hastası\n",
            "Yazarı giriniz: Moliere\n",
            "Yayınevi giriniz: Türkiye İş Bankası\n",
            "Yayın yılını giriniz: 2016\n",
            "ISBN giriniz: 9786053326854\n",
            "1) Kayıt listele \n",
            "2) Kayıt ekle\n",
            "Hangi işlemi yapmak istiyorsunuz 1/2: 2\n",
            "Eser adı giriniz: Ana\n",
            "Yazarı giriniz: Maksim Gorki\n",
            "Yayınevi giriniz: Can\n",
            "Yayın yılını giriniz: 2018\n",
            "ISBN giriniz: 9789750736988\n",
            "1) Kayıt listele \n",
            "2) Kayıt ekle\n",
            "Hangi işlemi yapmak istiyorsunuz 1/2: 1\n",
            "Ölü Canlar, Nikolay Gogol, Karaca, 1960, 9786054845125\n",
            "\n",
            "Füreya, Ayşe Kulin, Everest, 2000, 9789752897496\n",
            "\n",
            "Hastalık Hastası, Moliere, Türkiye İş Bankası, 2016, 9786053326854\n",
            "\n",
            "Ana, Maksim Gorki, Can, 2018, 9789750736988\n",
            "\n"
          ],
          "name": "stdout"
        }
      ]
    }
  ]
}